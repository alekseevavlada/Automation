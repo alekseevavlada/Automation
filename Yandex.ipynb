{
 "cells": [
  {
   "cell_type": "markdown",
   "id": "297512e2-03be-4983-8d44-ae64bcd12b9e",
   "metadata": {},
   "source": [
    "Найти наибольшее число в массиве, являющееся полным квадратом (квадратом некоторого целого числа)."
   ]
  },
  {
   "cell_type": "code",
   "execution_count": 245,
   "id": "b28b11a8-266e-4b23-9594-8bb651582f42",
   "metadata": {},
   "outputs": [
    {
     "name": "stdout",
     "output_type": "stream",
     "text": [
      "Наибольшее число в списке, являющееся полным квадратом: 49\n"
     ]
    }
   ],
   "source": [
    "#  Python\n",
    "\n",
    "def find_largest_square(nums):\n",
    "    \"\"\"\n",
    "    Функция последовательно проходит по элементам списка 'nums',\n",
    "    проверяя, является ли каждый элемент полным квадратом.\n",
    "    Возвращает максимальный элемент, удовлетворяший этому условию,\n",
    "    или None, если такого элемента нет.\n",
    "    \"\"\"\n",
    "    max_square = None\n",
    "    for value in nums:\n",
    "        if value >= 0:  # Проверяем только неотрицательные числа\n",
    "            root = int(value ** 0.5)\n",
    "            if root * root == value: # Проверяем, является ли полным квадратом\n",
    "                if max_square is None or value > max_square:\n",
    "                    max_square = value\n",
    "    return max_square\n",
    "\n",
    "\n",
    "# Пример использования:\n",
    "arr = [1, 4, 9, 16, 25, 26, 36, 49, 50]\n",
    "result = find_largest_square(arr)\n",
    "print(\"Наибольшее число в списке, являющееся полным квадратом:\", result) # Вывод: 49\n",
    "\n",
    "# Алгоритм проходит по каждому элементу списка 'nums' в цикле 'for' один раз. \n",
    "# Соответственно, если в списке 'n' элементов, то цикл выполняется 'n' раз. \n",
    "# Все операции внутри цикла (вычисление квадратного корня и сравнения) \n",
    "# выполняются за константное время O(1).\n",
    "# Тогда общая временная сложность составляет O(n), где 'n' есть количество элементов в списке 'nums'.\n",
    "# И выполнение алгоритма линейно зависит от кол-ва элементов."
   ]
  },
  {
   "cell_type": "markdown",
   "id": "9f270f41-15bd-4f23-aa62-cd9a624b3a25",
   "metadata": {},
   "source": [
    "Найти наибольший общий делитель всех чисел в заданном диапазоне [L, R]."
   ]
  },
  {
   "cell_type": "code",
   "execution_count": 247,
   "id": "2f8bf2f4-494d-4e1a-8576-7303a548cbc6",
   "metadata": {},
   "outputs": [
    {
     "name": "stdout",
     "output_type": "stream",
     "text": [
      "Наибольший общий делитель диапазона [123, 245]: 81\n"
     ]
    }
   ],
   "source": [
    "import math\n",
    "\n",
    "class RangeGcd:\n",
    "    num_left = 0  # Первый искомый аргумент НОД\n",
    "    num_right = 0  # Второй искомый аргумент НОД\n",
    "    gcd = 0  # Искомый НОД диапазона\n",
    "\n",
    "    def range_gcd(a, b):\n",
    "        # Функция для вычисления НОД двух чисел a и b с помощью алгоритма Евклида\n",
    "        if b == 0:\n",
    "            return a\n",
    "        return RangeGcd.range_gcd(b, a % b)\n",
    "\n",
    "    def search_gcd(L, R):\n",
    "        down_num_left = L  # Ближайшее большее значение левой границы\n",
    "        up_num_right = R  # Ближайшее меньшее значение правой границы\n",
    "\n",
    "        # Для больших интервалов существует пара (x, 2x) в диапазоне\n",
    "        if down_num_left * 2 < up_num_right:\n",
    "            if up_num_right % 2 == 0:  # Правая граница (чётная или уменьшаем на 1)\n",
    "                RangeGcd.num_right = up_num_right\n",
    "            else:\n",
    "                RangeGcd.num_right = up_num_right - 1\n",
    "\n",
    "            # Левая граница — это половина правой\n",
    "            RangeGcd.num_left = up_num_right // 2\n",
    "            # Если в диапазоне всего одно число, ответом будет этот единственный элемент\n",
    "            RangeGcd.gcd = RangeGcd.num_left \n",
    "            \n",
    "        else:\n",
    "            # Перебираем i от 1 до up_num_right\n",
    "            if down_num_left < up_num_right:\n",
    "                for i in range(1, up_num_right + 1):\n",
    "                    # Округлить в большую сторону до ближайшего кратного i\n",
    "                    down_num_left = (L // i + (1 if L % i > 0 else 0)) * i\n",
    "                    # Округлить в меньшую сторону до ближайшего кратного i\n",
    "                    up_num_right = (R // i) * i\n",
    "\n",
    "                  # Зафиксировать результат до совпадения границ\n",
    "                    if down_num_left < up_num_right:\n",
    "                        RangeGcd.gcd = max(RangeGcd.gcd, RangeGcd.range_gcd(up_num_right, down_num_left))\n",
    "                        RangeGcd.num_left = down_num_left\n",
    "                        RangeGcd.num_right = up_num_right\n",
    "\n",
    "            else:  \n",
    "                # Если границы диапазона совпадают (L == R), тогда НОД стал 1\n",
    "                RangeGcd.num_left = down_num_left\n",
    "                RangeGcd.num_right = up_num_right\n",
    "                RangeGcd.gcd = down_num_left\n",
    "\n",
    "\n",
    "# Пример использования \n",
    "L, R = 123, 245\n",
    "\n",
    "# Поиск НОД\n",
    "RangeGcd.search_gcd(L, R)\n",
    "\n",
    "# Вывод\n",
    "print(f\"Наибольший общий делитель диапазона [{L}, {R}]: {RangeGcd.gcd}\")\n",
    "\n",
    "# Временная сложность функции 'gcd' алгоритма Евклида составляет O(log(min(a, b))). \n",
    "# Это происходит потому, что в каждой итерации цикла while размер чисел значительно уменьшается.\n",
    "# Функция 'search_gcd' перебирает все целые числа от (L + 1) до (R). В худшем случае это (R - L) итераций.\n",
    "# В каждой итерации вызывается 'gcd' со временем O(log(min(search_gcd, num)))). \n",
    "# В худшем случае 'search_gcd' может быть как минимум (R) (если (L) мало).\n",
    "# Тогда общая временная сложность  приблизительно O((R - L) * log(R)).\n",
    "# Проще говоря время линейно зависит от размера диапазона и логарифмически от максимального числа."
   ]
  },
  {
   "cell_type": "code",
   "execution_count": null,
   "id": "a9e7621e-9301-40e6-bb28-3615af153a43",
   "metadata": {},
   "outputs": [],
   "source": []
  }
 ],
 "metadata": {
  "kernelspec": {
   "display_name": "Python [conda env:base] *",
   "language": "python",
   "name": "conda-base-py"
  },
  "language_info": {
   "codemirror_mode": {
    "name": "ipython",
    "version": 3
   },
   "file_extension": ".py",
   "mimetype": "text/x-python",
   "name": "python",
   "nbconvert_exporter": "python",
   "pygments_lexer": "ipython3",
   "version": "3.12.2"
  }
 },
 "nbformat": 4,
 "nbformat_minor": 5
}
